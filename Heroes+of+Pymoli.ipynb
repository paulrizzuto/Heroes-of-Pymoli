{
 "cells": [
  {
   "cell_type": "markdown",
   "metadata": {},
   "source": [
    "# Heroes of Pymoli Data Analysis\n"
   ]
  },
  {
   "cell_type": "markdown",
   "metadata": {},
   "source": [
    "- While the total purchase count is 780, the number of unique players is only 573. There is a good amount of repeat purchasers for the Heroes of Pymoli game.\n",
    "- The best represented age bracket in the data is 20-24 years, accounting for 45% of the entire sample. Unsurprisingly, the bracket makes up the largest portion of Total Purchase Value, but while Average Purchase Price is middle of the pack, Normalized Totals places the bracket in the lower tier of values. Players in this age bracket spend less than other age brackets on a holistic basis.\n",
    "- The list of most profitable items is led by some of the most expensive items, rather than those that were purchased the most often. Items priced lower must be purchased at a much higher rate to deliver the same value as higher priced items, and the data does not show this occurring."
   ]
  },
  {
   "cell_type": "code",
   "execution_count": 1,
   "metadata": {
    "collapsed": true
   },
   "outputs": [],
   "source": [
    "import pandas as pd\n",
    "import numpy as np"
   ]
  },
  {
   "cell_type": "code",
   "execution_count": 2,
   "metadata": {
    "collapsed": true
   },
   "outputs": [],
   "source": [
    "file = \"purchase_data.json\""
   ]
  },
  {
   "cell_type": "code",
   "execution_count": 3,
   "metadata": {},
   "outputs": [
    {
     "data": {
      "text/html": [
       "<div>\n",
       "<style>\n",
       "    .dataframe thead tr:only-child th {\n",
       "        text-align: right;\n",
       "    }\n",
       "\n",
       "    .dataframe thead th {\n",
       "        text-align: left;\n",
       "    }\n",
       "\n",
       "    .dataframe tbody tr th {\n",
       "        vertical-align: top;\n",
       "    }\n",
       "</style>\n",
       "<table border=\"1\" class=\"dataframe\">\n",
       "  <thead>\n",
       "    <tr style=\"text-align: right;\">\n",
       "      <th></th>\n",
       "      <th>Age</th>\n",
       "      <th>Gender</th>\n",
       "      <th>Item ID</th>\n",
       "      <th>Item Name</th>\n",
       "      <th>Price</th>\n",
       "      <th>SN</th>\n",
       "    </tr>\n",
       "  </thead>\n",
       "  <tbody>\n",
       "    <tr>\n",
       "      <th>0</th>\n",
       "      <td>38</td>\n",
       "      <td>Male</td>\n",
       "      <td>165</td>\n",
       "      <td>Bone Crushing Silver Skewer</td>\n",
       "      <td>3.37</td>\n",
       "      <td>Aelalis34</td>\n",
       "    </tr>\n",
       "    <tr>\n",
       "      <th>1</th>\n",
       "      <td>21</td>\n",
       "      <td>Male</td>\n",
       "      <td>119</td>\n",
       "      <td>Stormbringer, Dark Blade of Ending Misery</td>\n",
       "      <td>2.32</td>\n",
       "      <td>Eolo46</td>\n",
       "    </tr>\n",
       "    <tr>\n",
       "      <th>2</th>\n",
       "      <td>34</td>\n",
       "      <td>Male</td>\n",
       "      <td>174</td>\n",
       "      <td>Primitive Blade</td>\n",
       "      <td>2.46</td>\n",
       "      <td>Assastnya25</td>\n",
       "    </tr>\n",
       "    <tr>\n",
       "      <th>3</th>\n",
       "      <td>21</td>\n",
       "      <td>Male</td>\n",
       "      <td>92</td>\n",
       "      <td>Final Critic</td>\n",
       "      <td>1.36</td>\n",
       "      <td>Pheusrical25</td>\n",
       "    </tr>\n",
       "    <tr>\n",
       "      <th>4</th>\n",
       "      <td>23</td>\n",
       "      <td>Male</td>\n",
       "      <td>63</td>\n",
       "      <td>Stormfury Mace</td>\n",
       "      <td>1.27</td>\n",
       "      <td>Aela59</td>\n",
       "    </tr>\n",
       "  </tbody>\n",
       "</table>\n",
       "</div>"
      ],
      "text/plain": [
       "   Age Gender  Item ID                                  Item Name  Price  \\\n",
       "0   38   Male      165                Bone Crushing Silver Skewer   3.37   \n",
       "1   21   Male      119  Stormbringer, Dark Blade of Ending Misery   2.32   \n",
       "2   34   Male      174                            Primitive Blade   2.46   \n",
       "3   21   Male       92                               Final Critic   1.36   \n",
       "4   23   Male       63                             Stormfury Mace   1.27   \n",
       "\n",
       "             SN  \n",
       "0     Aelalis34  \n",
       "1        Eolo46  \n",
       "2   Assastnya25  \n",
       "3  Pheusrical25  \n",
       "4        Aela59  "
      ]
     },
     "execution_count": 3,
     "metadata": {},
     "output_type": "execute_result"
    }
   ],
   "source": [
    "df = pd.read_json(file)\n",
    "df.head()"
   ]
  },
  {
   "cell_type": "code",
   "execution_count": 4,
   "metadata": {},
   "outputs": [
    {
     "data": {
      "text/plain": [
       "Index(['Age', 'Gender', 'Item ID', 'Item Name', 'Price', 'SN'], dtype='object')"
      ]
     },
     "execution_count": 4,
     "metadata": {},
     "output_type": "execute_result"
    }
   ],
   "source": [
    "df.columns"
   ]
  },
  {
   "cell_type": "markdown",
   "metadata": {},
   "source": [
    "## Player Count"
   ]
  },
  {
   "cell_type": "code",
   "execution_count": 68,
   "metadata": {},
   "outputs": [
    {
     "data": {
      "text/html": [
       "<div>\n",
       "<style>\n",
       "    .dataframe thead tr:only-child th {\n",
       "        text-align: right;\n",
       "    }\n",
       "\n",
       "    .dataframe thead th {\n",
       "        text-align: left;\n",
       "    }\n",
       "\n",
       "    .dataframe tbody tr th {\n",
       "        vertical-align: top;\n",
       "    }\n",
       "</style>\n",
       "<table border=\"1\" class=\"dataframe\">\n",
       "  <thead>\n",
       "    <tr style=\"text-align: right;\">\n",
       "      <th></th>\n",
       "      <th>Total Players</th>\n",
       "    </tr>\n",
       "  </thead>\n",
       "  <tbody>\n",
       "    <tr>\n",
       "      <th>0</th>\n",
       "      <td>573</td>\n",
       "    </tr>\n",
       "  </tbody>\n",
       "</table>\n",
       "</div>"
      ],
      "text/plain": [
       "   Total Players\n",
       "0            573"
      ]
     },
     "execution_count": 68,
     "metadata": {},
     "output_type": "execute_result"
    }
   ],
   "source": [
    "#total number of players\n",
    "uniqueplayers = df['SN'].nunique()\n",
    "total_players_final = pd.DataFrame({\"Total Players\": [uniqueplayers]}, columns= [\"Total Players\"])\n",
    "total_players_final"
   ]
  },
  {
   "cell_type": "markdown",
   "metadata": {},
   "source": [
    "## Purchase Analysis (Total)"
   ]
  },
  {
   "cell_type": "code",
   "execution_count": 67,
   "metadata": {},
   "outputs": [
    {
     "data": {
      "text/html": [
       "<style  type=\"text/css\" >\n",
       "</style>  \n",
       "<table id=\"T_08b96d46_8f53_11e7_87aa_f40f240c664b\" > \n",
       "<thead>    <tr> \n",
       "        <th class=\"blank level0\" ></th> \n",
       "        <th class=\"col_heading level0 col0\" >Number of Unique Items</th> \n",
       "        <th class=\"col_heading level0 col1\" >Average Purchase Price</th> \n",
       "        <th class=\"col_heading level0 col2\" >Number of Purchases</th> \n",
       "        <th class=\"col_heading level0 col3\" >Total Revenue</th> \n",
       "    </tr></thead> \n",
       "<tbody>    <tr> \n",
       "        <th id=\"T_08b96d46_8f53_11e7_87aa_f40f240c664b\" class=\"row_heading level0 row0\" >0</th> \n",
       "        <td id=\"T_08b96d46_8f53_11e7_87aa_f40f240c664brow0_col0\" class=\"data row0 col0\" >183</td> \n",
       "        <td id=\"T_08b96d46_8f53_11e7_87aa_f40f240c664brow0_col1\" class=\"data row0 col1\" >$2.93</td> \n",
       "        <td id=\"T_08b96d46_8f53_11e7_87aa_f40f240c664brow0_col2\" class=\"data row0 col2\" >780</td> \n",
       "        <td id=\"T_08b96d46_8f53_11e7_87aa_f40f240c664brow0_col3\" class=\"data row0 col3\" >$2286.33</td> \n",
       "    </tr></tbody> \n",
       "</table> "
      ],
      "text/plain": [
       "<pandas.io.formats.style.Styler at 0x11039c198>"
      ]
     },
     "execution_count": 67,
     "metadata": {},
     "output_type": "execute_result"
    }
   ],
   "source": [
    "#find number of unique items sold, purchase price, number of purchases, and total revenue for full dataframe\n",
    "uniqueitems = df['Item ID'].nunique()\n",
    "avgprice = (df['Price'].sum()/df['Price'].count()).round(2)\n",
    "totalpurchases = df['Price'].count()\n",
    "totalrevenue = df[\"Price\"].sum()\n",
    "\n",
    "total_analysis_df = pd.DataFrame({\"Number of Unique Items\": [uniqueitems], \n",
    "                              \"Average Purchase Price\": [avgprice],\n",
    "                             \"Number of Purchases\": [totalpurchases],\n",
    "                             \"Total Revenue\": [totalrevenue]}, columns= [\"Number of Unique Items\", \"Average Purchase Price\",\n",
    "                            \"Number of Purchases\", \"Total Revenue\"])\n",
    "\n",
    "total_analysis_df.style.format({\"Average Purchase Price\": \"${:.2f}\", \"Total Revenue\": \"${:.2f}\"})"
   ]
  },
  {
   "cell_type": "markdown",
   "metadata": {},
   "source": [
    "## Gender Demographics"
   ]
  },
  {
   "cell_type": "code",
   "execution_count": 66,
   "metadata": {},
   "outputs": [
    {
     "data": {
      "text/html": [
       "<style  type=\"text/css\" >\n",
       "</style>  \n",
       "<table id=\"T_fdd16cee_8f52_11e7_8f07_f40f240c664b\" > \n",
       "<thead>    <tr> \n",
       "        <th class=\"blank level0\" ></th> \n",
       "        <th class=\"col_heading level0 col0\" >Percentage of Players</th> \n",
       "        <th class=\"col_heading level0 col1\" >Total Count</th> \n",
       "    </tr>    <tr> \n",
       "        <th class=\"index_name level0\" >Gender</th> \n",
       "        <th class=\"blank\" ></th> \n",
       "        <th class=\"blank\" ></th> \n",
       "    </tr></thead> \n",
       "<tbody>    <tr> \n",
       "        <th id=\"T_fdd16cee_8f52_11e7_8f07_f40f240c664b\" class=\"row_heading level0 row0\" >Male</th> \n",
       "        <td id=\"T_fdd16cee_8f52_11e7_8f07_f40f240c664brow0_col0\" class=\"data row0 col0\" >81.15%</td> \n",
       "        <td id=\"T_fdd16cee_8f52_11e7_8f07_f40f240c664brow0_col1\" class=\"data row0 col1\" >465</td> \n",
       "    </tr>    <tr> \n",
       "        <th id=\"T_fdd16cee_8f52_11e7_8f07_f40f240c664b\" class=\"row_heading level0 row1\" >Female</th> \n",
       "        <td id=\"T_fdd16cee_8f52_11e7_8f07_f40f240c664brow1_col0\" class=\"data row1 col0\" >17.45%</td> \n",
       "        <td id=\"T_fdd16cee_8f52_11e7_8f07_f40f240c664brow1_col1\" class=\"data row1 col1\" >100</td> \n",
       "    </tr>    <tr> \n",
       "        <th id=\"T_fdd16cee_8f52_11e7_8f07_f40f240c664b\" class=\"row_heading level0 row2\" >Other / Non-Disclosed</th> \n",
       "        <td id=\"T_fdd16cee_8f52_11e7_8f07_f40f240c664brow2_col0\" class=\"data row2 col0\" >1.40%</td> \n",
       "        <td id=\"T_fdd16cee_8f52_11e7_8f07_f40f240c664brow2_col1\" class=\"data row2 col1\" >8</td> \n",
       "    </tr></tbody> \n",
       "</table> "
      ],
      "text/plain": [
       "<pandas.io.formats.style.Styler at 0x11039cfd0>"
      ]
     },
     "execution_count": 66,
     "metadata": {},
     "output_type": "execute_result"
    }
   ],
   "source": [
    "fullcount = df[\"SN\"].nunique()\n",
    "malecount = df[df[\"Gender\"] == \"Male\"][\"SN\"].nunique()\n",
    "femalecount = df[df[\"Gender\"] == \"Female\"][\"SN\"].nunique()\n",
    "othercount = fullcount - malecount - femalecount\n",
    "maleperc = ((malecount/fullcount)*100)\n",
    "femaleperc = ((femalecount/fullcount)*100)\n",
    "otherperc = ((othercount/fullcount)*100)\n",
    "\n",
    "gender_demo_df = pd.DataFrame({\"Gender\": [\"Male\", \"Female\", \"Other / Non-Disclosed\"], \"Percentage of Players\": [maleperc, femaleperc, otherperc],\n",
    "                                        \"Total Count\": [malecount, femalecount, othercount]}, columns = \n",
    "                                        [\"Gender\", \"Percentage of Players\", \"Total Count\"])\n",
    "                                        \n",
    "gender_demo_final = gender_demo_df.set_index(\"Gender\")\n",
    "gender_demo_final.style.format({\"Percentage of Players\": \"{:.2f}%\"})                                      "
   ]
  },
  {
   "cell_type": "markdown",
   "metadata": {},
   "source": [
    "## Purchasing Analysis (Gender)"
   ]
  },
  {
   "cell_type": "code",
   "execution_count": 65,
   "metadata": {},
   "outputs": [
    {
     "data": {
      "text/html": [
       "<style  type=\"text/css\" >\n",
       "</style>  \n",
       "<table id=\"T_f730b58c_8f52_11e7_9f4e_f40f240c664b\" > \n",
       "<thead>    <tr> \n",
       "        <th class=\"blank level0\" ></th> \n",
       "        <th class=\"col_heading level0 col0\" >Purchase Count</th> \n",
       "        <th class=\"col_heading level0 col1\" >Average Purchase Price</th> \n",
       "        <th class=\"col_heading level0 col2\" >Total Purchase Value</th> \n",
       "        <th class=\"col_heading level0 col3\" >Normalized Totals</th> \n",
       "    </tr>    <tr> \n",
       "        <th class=\"index_name level0\" >Gender</th> \n",
       "        <th class=\"blank\" ></th> \n",
       "        <th class=\"blank\" ></th> \n",
       "        <th class=\"blank\" ></th> \n",
       "        <th class=\"blank\" ></th> \n",
       "    </tr></thead> \n",
       "<tbody>    <tr> \n",
       "        <th id=\"T_f730b58c_8f52_11e7_9f4e_f40f240c664b\" class=\"row_heading level0 row0\" >Male</th> \n",
       "        <td id=\"T_f730b58c_8f52_11e7_9f4e_f40f240c664brow0_col0\" class=\"data row0 col0\" >633</td> \n",
       "        <td id=\"T_f730b58c_8f52_11e7_9f4e_f40f240c664brow0_col1\" class=\"data row0 col1\" >$2.95</td> \n",
       "        <td id=\"T_f730b58c_8f52_11e7_9f4e_f40f240c664brow0_col2\" class=\"data row0 col2\" >$1867.68</td> \n",
       "        <td id=\"T_f730b58c_8f52_11e7_9f4e_f40f240c664brow0_col3\" class=\"data row0 col3\" >$4.02</td> \n",
       "    </tr>    <tr> \n",
       "        <th id=\"T_f730b58c_8f52_11e7_9f4e_f40f240c664b\" class=\"row_heading level0 row1\" >Female</th> \n",
       "        <td id=\"T_f730b58c_8f52_11e7_9f4e_f40f240c664brow1_col0\" class=\"data row1 col0\" >136</td> \n",
       "        <td id=\"T_f730b58c_8f52_11e7_9f4e_f40f240c664brow1_col1\" class=\"data row1 col1\" >$2.82</td> \n",
       "        <td id=\"T_f730b58c_8f52_11e7_9f4e_f40f240c664brow1_col2\" class=\"data row1 col2\" >$382.91</td> \n",
       "        <td id=\"T_f730b58c_8f52_11e7_9f4e_f40f240c664brow1_col3\" class=\"data row1 col3\" >$3.83</td> \n",
       "    </tr>    <tr> \n",
       "        <th id=\"T_f730b58c_8f52_11e7_9f4e_f40f240c664b\" class=\"row_heading level0 row2\" >Other / Non-Disclosed</th> \n",
       "        <td id=\"T_f730b58c_8f52_11e7_9f4e_f40f240c664brow2_col0\" class=\"data row2 col0\" >11</td> \n",
       "        <td id=\"T_f730b58c_8f52_11e7_9f4e_f40f240c664brow2_col1\" class=\"data row2 col1\" >$3.25</td> \n",
       "        <td id=\"T_f730b58c_8f52_11e7_9f4e_f40f240c664brow2_col2\" class=\"data row2 col2\" >$35.74</td> \n",
       "        <td id=\"T_f730b58c_8f52_11e7_9f4e_f40f240c664brow2_col3\" class=\"data row2 col3\" >$4.47</td> \n",
       "    </tr></tbody> \n",
       "</table> "
      ],
      "text/plain": [
       "<pandas.io.formats.style.Styler at 0x10f4e1588>"
      ]
     },
     "execution_count": 65,
     "metadata": {},
     "output_type": "execute_result"
    }
   ],
   "source": [
    "malepurch = df[df[\"Gender\"] == \"Male\"][\"Price\"].count()\n",
    "femalepurch = df[df[\"Gender\"] == \"Female\"][\"Price\"].count()\n",
    "otherpurch = totalpurchases - malepurch - femalepurch\n",
    "mpriceavg = df[df[\"Gender\"] == \"Male\"]['Price'].mean()\n",
    "fpriceavg = df[df[\"Gender\"] == \"Female\"]['Price'].mean()\n",
    "opriceavg = df[df[\"Gender\"] == \"Other / Non-Disclosed\"]['Price'].mean()\n",
    "mpricetot = df[df[\"Gender\"] == \"Male\"]['Price'].sum()\n",
    "fpricetot = df[df[\"Gender\"] == \"Female\"]['Price'].sum()\n",
    "opricetot = df[df[\"Gender\"] == \"Other / Non-Disclosed\"]['Price'].sum()\n",
    "mnorm = mpricetot/malecount\n",
    "fnorm = fpricetot/femalecount\n",
    "onorm = opricetot/othercount\n",
    "\n",
    "gender_purchase_df = pd.DataFrame({\"Gender\": [\"Male\", \"Female\", \"Other / Non-Disclosed\"], \"Purchase Count\": [malepurch, femalepurch, otherpurch],\n",
    "                                        \"Average Purchase Price\": [mpriceavg, fpriceavg, opriceavg], \"Total Purchase Value\": [mpricetot, fpricetot, opricetot],\n",
    "                                \"Normalized Totals\": [mnorm, fnorm, onorm]}, columns = \n",
    "                                        [\"Gender\", \"Purchase Count\", \"Average Purchase Price\", \"Total Purchase Value\", \"Normalized Totals\"])\n",
    "                                        \n",
    "gender_purchase_final = gender_purchase_df.set_index(\"Gender\")\n",
    "gender_purchase_final.style.format({\"Average Purchase Price\": \"${:.2f}\", \"Total Purchase Value\": \"${:.2f}\", \"Normalized Totals\": \"${:.2f}\"})\n",
    "\n"
   ]
  },
  {
   "cell_type": "markdown",
   "metadata": {},
   "source": [
    "## Age Demographics"
   ]
  },
  {
   "cell_type": "code",
   "execution_count": 35,
   "metadata": {},
   "outputs": [
    {
     "data": {
      "text/html": [
       "<style  type=\"text/css\" >\n",
       "</style>  \n",
       "<table id=\"T_fed8d762_8f4d_11e7_b3ec_f40f240c664b\" > \n",
       "<thead>    <tr> \n",
       "        <th class=\"blank level0\" ></th> \n",
       "        <th class=\"col_heading level0 col0\" >Percentage of Players</th> \n",
       "        <th class=\"col_heading level0 col1\" >Total Count</th> \n",
       "    </tr>    <tr> \n",
       "        <th class=\"index_name level0\" >Age</th> \n",
       "        <th class=\"blank\" ></th> \n",
       "        <th class=\"blank\" ></th> \n",
       "    </tr></thead> \n",
       "<tbody>    <tr> \n",
       "        <th id=\"T_fed8d762_8f4d_11e7_b3ec_f40f240c664b\" class=\"row_heading level0 row0\" ><10</th> \n",
       "        <td id=\"T_fed8d762_8f4d_11e7_b3ec_f40f240c664brow0_col0\" class=\"data row0 col0\" >3.32%</td> \n",
       "        <td id=\"T_fed8d762_8f4d_11e7_b3ec_f40f240c664brow0_col1\" class=\"data row0 col1\" >19</td> \n",
       "    </tr>    <tr> \n",
       "        <th id=\"T_fed8d762_8f4d_11e7_b3ec_f40f240c664b\" class=\"row_heading level0 row1\" >10-14</th> \n",
       "        <td id=\"T_fed8d762_8f4d_11e7_b3ec_f40f240c664brow1_col0\" class=\"data row1 col0\" >4.01%</td> \n",
       "        <td id=\"T_fed8d762_8f4d_11e7_b3ec_f40f240c664brow1_col1\" class=\"data row1 col1\" >23</td> \n",
       "    </tr>    <tr> \n",
       "        <th id=\"T_fed8d762_8f4d_11e7_b3ec_f40f240c664b\" class=\"row_heading level0 row2\" >15-19</th> \n",
       "        <td id=\"T_fed8d762_8f4d_11e7_b3ec_f40f240c664brow2_col0\" class=\"data row2 col0\" >17.45%</td> \n",
       "        <td id=\"T_fed8d762_8f4d_11e7_b3ec_f40f240c664brow2_col1\" class=\"data row2 col1\" >100</td> \n",
       "    </tr>    <tr> \n",
       "        <th id=\"T_fed8d762_8f4d_11e7_b3ec_f40f240c664b\" class=\"row_heading level0 row3\" >20-24</th> \n",
       "        <td id=\"T_fed8d762_8f4d_11e7_b3ec_f40f240c664brow3_col0\" class=\"data row3 col0\" >45.20%</td> \n",
       "        <td id=\"T_fed8d762_8f4d_11e7_b3ec_f40f240c664brow3_col1\" class=\"data row3 col1\" >259</td> \n",
       "    </tr>    <tr> \n",
       "        <th id=\"T_fed8d762_8f4d_11e7_b3ec_f40f240c664b\" class=\"row_heading level0 row4\" >25-29</th> \n",
       "        <td id=\"T_fed8d762_8f4d_11e7_b3ec_f40f240c664brow4_col0\" class=\"data row4 col0\" >15.18%</td> \n",
       "        <td id=\"T_fed8d762_8f4d_11e7_b3ec_f40f240c664brow4_col1\" class=\"data row4 col1\" >87</td> \n",
       "    </tr>    <tr> \n",
       "        <th id=\"T_fed8d762_8f4d_11e7_b3ec_f40f240c664b\" class=\"row_heading level0 row5\" >30-34</th> \n",
       "        <td id=\"T_fed8d762_8f4d_11e7_b3ec_f40f240c664brow5_col0\" class=\"data row5 col0\" >8.20%</td> \n",
       "        <td id=\"T_fed8d762_8f4d_11e7_b3ec_f40f240c664brow5_col1\" class=\"data row5 col1\" >47</td> \n",
       "    </tr>    <tr> \n",
       "        <th id=\"T_fed8d762_8f4d_11e7_b3ec_f40f240c664b\" class=\"row_heading level0 row6\" >35-39</th> \n",
       "        <td id=\"T_fed8d762_8f4d_11e7_b3ec_f40f240c664brow6_col0\" class=\"data row6 col0\" >4.71%</td> \n",
       "        <td id=\"T_fed8d762_8f4d_11e7_b3ec_f40f240c664brow6_col1\" class=\"data row6 col1\" >27</td> \n",
       "    </tr>    <tr> \n",
       "        <th id=\"T_fed8d762_8f4d_11e7_b3ec_f40f240c664b\" class=\"row_heading level0 row7\" >40-44</th> \n",
       "        <td id=\"T_fed8d762_8f4d_11e7_b3ec_f40f240c664brow7_col0\" class=\"data row7 col0\" >1.75%</td> \n",
       "        <td id=\"T_fed8d762_8f4d_11e7_b3ec_f40f240c664brow7_col1\" class=\"data row7 col1\" >10</td> \n",
       "    </tr>    <tr> \n",
       "        <th id=\"T_fed8d762_8f4d_11e7_b3ec_f40f240c664b\" class=\"row_heading level0 row8\" >45-49</th> \n",
       "        <td id=\"T_fed8d762_8f4d_11e7_b3ec_f40f240c664brow8_col0\" class=\"data row8 col0\" >0.17%</td> \n",
       "        <td id=\"T_fed8d762_8f4d_11e7_b3ec_f40f240c664brow8_col1\" class=\"data row8 col1\" >1</td> \n",
       "    </tr></tbody> \n",
       "</table> "
      ],
      "text/plain": [
       "<pandas.io.formats.style.Styler at 0x1101d4cc0>"
      ]
     },
     "execution_count": 35,
     "metadata": {},
     "output_type": "execute_result"
    }
   ],
   "source": [
    "#create age parameters - 4 year length\n",
    "#create dataframe of unique players in each age group, find percentage against full count of players\n",
    "\n",
    "tenyears = df[df[\"Age\"] <10]\n",
    "loteens = df[(df[\"Age\"] >=10) & (df[\"Age\"] <=14)]\n",
    "hiteens = df[(df[\"Age\"] >=15) & (df[\"Age\"] <=19)]\n",
    "lotwent = df[(df[\"Age\"] >=20) & (df[\"Age\"] <=24)]\n",
    "hitwent = df[(df[\"Age\"] >=25) & (df[\"Age\"] <=29)]\n",
    "lothirt = df[(df[\"Age\"] >=30) & (df[\"Age\"] <=34)]\n",
    "hithirt = df[(df[\"Age\"] >=35) & (df[\"Age\"] <=39)]\n",
    "loforty = df[(df[\"Age\"] >=40) & (df[\"Age\"] <=44)]\n",
    "hiforty = df[(df[\"Age\"] >=45) & (df[\"Age\"] <=49)]\n",
    "\n",
    "age_demo_df = pd.DataFrame({\"Age\": [\"<10\", \"10-14\", \"15-19\", \"20-24\", \"25-29\", \"30-34\", \"35-39\", \"40-44\", \"45-49\"],\n",
    "                        \"Percentage of Players\": [(tenyears[\"SN\"].nunique()/fullcount)*100, (loteens[\"SN\"].nunique()/fullcount)*100, (hiteens[\"SN\"].nunique()/fullcount)*100, (lotwent[\"SN\"].nunique()/fullcount)*100, (hitwent[\"SN\"].nunique()/fullcount)*100, (lothirt[\"SN\"].nunique()/fullcount)*100, (hithirt[\"SN\"].nunique()/fullcount)*100, (loforty[\"SN\"].nunique()/fullcount)*100, (hiforty[\"SN\"].nunique()/fullcount)*100],\n",
    "                        \"Total Count\": [tenyears[\"SN\"].nunique(), loteens[\"SN\"].nunique(), hiteens[\"SN\"].nunique(), lotwent[\"SN\"].nunique(), hitwent[\"SN\"].nunique(), lothirt[\"SN\"].nunique(), hithirt[\"SN\"].nunique(), loforty[\"SN\"].nunique(), hiforty[\"SN\"].nunique()]\n",
    "                       })\n",
    "\n",
    "age_demo_final = age_demo_df.set_index(\"Age\")\n",
    "age_demo_final.style.format({\"Percentage of Players\": \"{:.2f}%\"})  \n",
    "                        "
   ]
  },
  {
   "cell_type": "markdown",
   "metadata": {},
   "source": [
    "## Purchasing Analysis (Age)"
   ]
  },
  {
   "cell_type": "code",
   "execution_count": 24,
   "metadata": {
    "collapsed": true
   },
   "outputs": [],
   "source": []
  },
  {
   "cell_type": "code",
   "execution_count": 64,
   "metadata": {},
   "outputs": [
    {
     "data": {
      "text/html": [
       "<style  type=\"text/css\" >\n",
       "</style>  \n",
       "<table id=\"T_d94f0b9c_8f52_11e7_b9bd_f40f240c664b\" > \n",
       "<thead>    <tr> \n",
       "        <th class=\"blank level0\" ></th> \n",
       "        <th class=\"col_heading level0 col0\" >Purchase Count</th> \n",
       "        <th class=\"col_heading level0 col1\" >Average Purchase Price</th> \n",
       "        <th class=\"col_heading level0 col2\" >Total Purchase Value</th> \n",
       "        <th class=\"col_heading level0 col3\" >Normalized Totals</th> \n",
       "    </tr>    <tr> \n",
       "        <th class=\"index_name level0\" >Age</th> \n",
       "        <th class=\"blank\" ></th> \n",
       "        <th class=\"blank\" ></th> \n",
       "        <th class=\"blank\" ></th> \n",
       "        <th class=\"blank\" ></th> \n",
       "    </tr></thead> \n",
       "<tbody>    <tr> \n",
       "        <th id=\"T_d94f0b9c_8f52_11e7_b9bd_f40f240c664b\" class=\"row_heading level0 row0\" ><10</th> \n",
       "        <td id=\"T_d94f0b9c_8f52_11e7_b9bd_f40f240c664brow0_col0\" class=\"data row0 col0\" >28</td> \n",
       "        <td id=\"T_d94f0b9c_8f52_11e7_b9bd_f40f240c664brow0_col1\" class=\"data row0 col1\" >$2.98</td> \n",
       "        <td id=\"T_d94f0b9c_8f52_11e7_b9bd_f40f240c664brow0_col2\" class=\"data row0 col2\" >$83.46</td> \n",
       "        <td id=\"T_d94f0b9c_8f52_11e7_b9bd_f40f240c664brow0_col3\" class=\"data row0 col3\" >$4.39</td> \n",
       "    </tr>    <tr> \n",
       "        <th id=\"T_d94f0b9c_8f52_11e7_b9bd_f40f240c664b\" class=\"row_heading level0 row1\" >10-14</th> \n",
       "        <td id=\"T_d94f0b9c_8f52_11e7_b9bd_f40f240c664brow1_col0\" class=\"data row1 col0\" >35</td> \n",
       "        <td id=\"T_d94f0b9c_8f52_11e7_b9bd_f40f240c664brow1_col1\" class=\"data row1 col1\" >$2.77</td> \n",
       "        <td id=\"T_d94f0b9c_8f52_11e7_b9bd_f40f240c664brow1_col2\" class=\"data row1 col2\" >$96.95</td> \n",
       "        <td id=\"T_d94f0b9c_8f52_11e7_b9bd_f40f240c664brow1_col3\" class=\"data row1 col3\" >$4.22</td> \n",
       "    </tr>    <tr> \n",
       "        <th id=\"T_d94f0b9c_8f52_11e7_b9bd_f40f240c664b\" class=\"row_heading level0 row2\" >15-19</th> \n",
       "        <td id=\"T_d94f0b9c_8f52_11e7_b9bd_f40f240c664brow2_col0\" class=\"data row2 col0\" >133</td> \n",
       "        <td id=\"T_d94f0b9c_8f52_11e7_b9bd_f40f240c664brow2_col1\" class=\"data row2 col1\" >$2.91</td> \n",
       "        <td id=\"T_d94f0b9c_8f52_11e7_b9bd_f40f240c664brow2_col2\" class=\"data row2 col2\" >$386.42</td> \n",
       "        <td id=\"T_d94f0b9c_8f52_11e7_b9bd_f40f240c664brow2_col3\" class=\"data row2 col3\" >$3.86</td> \n",
       "    </tr>    <tr> \n",
       "        <th id=\"T_d94f0b9c_8f52_11e7_b9bd_f40f240c664b\" class=\"row_heading level0 row3\" >20-24</th> \n",
       "        <td id=\"T_d94f0b9c_8f52_11e7_b9bd_f40f240c664brow3_col0\" class=\"data row3 col0\" >336</td> \n",
       "        <td id=\"T_d94f0b9c_8f52_11e7_b9bd_f40f240c664brow3_col1\" class=\"data row3 col1\" >$2.91</td> \n",
       "        <td id=\"T_d94f0b9c_8f52_11e7_b9bd_f40f240c664brow3_col2\" class=\"data row3 col2\" >$978.77</td> \n",
       "        <td id=\"T_d94f0b9c_8f52_11e7_b9bd_f40f240c664brow3_col3\" class=\"data row3 col3\" >$3.78</td> \n",
       "    </tr>    <tr> \n",
       "        <th id=\"T_d94f0b9c_8f52_11e7_b9bd_f40f240c664b\" class=\"row_heading level0 row4\" >25-29</th> \n",
       "        <td id=\"T_d94f0b9c_8f52_11e7_b9bd_f40f240c664brow4_col0\" class=\"data row4 col0\" >125</td> \n",
       "        <td id=\"T_d94f0b9c_8f52_11e7_b9bd_f40f240c664brow4_col1\" class=\"data row4 col1\" >$2.96</td> \n",
       "        <td id=\"T_d94f0b9c_8f52_11e7_b9bd_f40f240c664brow4_col2\" class=\"data row4 col2\" >$370.33</td> \n",
       "        <td id=\"T_d94f0b9c_8f52_11e7_b9bd_f40f240c664brow4_col3\" class=\"data row4 col3\" >$4.26</td> \n",
       "    </tr>    <tr> \n",
       "        <th id=\"T_d94f0b9c_8f52_11e7_b9bd_f40f240c664b\" class=\"row_heading level0 row5\" >30-34</th> \n",
       "        <td id=\"T_d94f0b9c_8f52_11e7_b9bd_f40f240c664brow5_col0\" class=\"data row5 col0\" >64</td> \n",
       "        <td id=\"T_d94f0b9c_8f52_11e7_b9bd_f40f240c664brow5_col1\" class=\"data row5 col1\" >$3.08</td> \n",
       "        <td id=\"T_d94f0b9c_8f52_11e7_b9bd_f40f240c664brow5_col2\" class=\"data row5 col2\" >$197.25</td> \n",
       "        <td id=\"T_d94f0b9c_8f52_11e7_b9bd_f40f240c664brow5_col3\" class=\"data row5 col3\" >$4.20</td> \n",
       "    </tr>    <tr> \n",
       "        <th id=\"T_d94f0b9c_8f52_11e7_b9bd_f40f240c664b\" class=\"row_heading level0 row6\" >35-39</th> \n",
       "        <td id=\"T_d94f0b9c_8f52_11e7_b9bd_f40f240c664brow6_col0\" class=\"data row6 col0\" >42</td> \n",
       "        <td id=\"T_d94f0b9c_8f52_11e7_b9bd_f40f240c664brow6_col1\" class=\"data row6 col1\" >$2.84</td> \n",
       "        <td id=\"T_d94f0b9c_8f52_11e7_b9bd_f40f240c664brow6_col2\" class=\"data row6 col2\" >$119.40</td> \n",
       "        <td id=\"T_d94f0b9c_8f52_11e7_b9bd_f40f240c664brow6_col3\" class=\"data row6 col3\" >$4.42</td> \n",
       "    </tr>    <tr> \n",
       "        <th id=\"T_d94f0b9c_8f52_11e7_b9bd_f40f240c664b\" class=\"row_heading level0 row7\" >40-44</th> \n",
       "        <td id=\"T_d94f0b9c_8f52_11e7_b9bd_f40f240c664brow7_col0\" class=\"data row7 col0\" >16</td> \n",
       "        <td id=\"T_d94f0b9c_8f52_11e7_b9bd_f40f240c664brow7_col1\" class=\"data row7 col1\" >$3.19</td> \n",
       "        <td id=\"T_d94f0b9c_8f52_11e7_b9bd_f40f240c664brow7_col2\" class=\"data row7 col2\" >$51.03</td> \n",
       "        <td id=\"T_d94f0b9c_8f52_11e7_b9bd_f40f240c664brow7_col3\" class=\"data row7 col3\" >$5.10</td> \n",
       "    </tr>    <tr> \n",
       "        <th id=\"T_d94f0b9c_8f52_11e7_b9bd_f40f240c664b\" class=\"row_heading level0 row8\" >45-49</th> \n",
       "        <td id=\"T_d94f0b9c_8f52_11e7_b9bd_f40f240c664brow8_col0\" class=\"data row8 col0\" >1</td> \n",
       "        <td id=\"T_d94f0b9c_8f52_11e7_b9bd_f40f240c664brow8_col1\" class=\"data row8 col1\" >$2.72</td> \n",
       "        <td id=\"T_d94f0b9c_8f52_11e7_b9bd_f40f240c664brow8_col2\" class=\"data row8 col2\" >$2.72</td> \n",
       "        <td id=\"T_d94f0b9c_8f52_11e7_b9bd_f40f240c664brow8_col3\" class=\"data row8 col3\" >$2.72</td> \n",
       "    </tr></tbody> \n",
       "</table> "
      ],
      "text/plain": [
       "<pandas.io.formats.style.Styler at 0x1103e3a20>"
      ]
     },
     "execution_count": 64,
     "metadata": {},
     "output_type": "execute_result"
    }
   ],
   "source": [
    "age_purchasing_df = pd.DataFrame({\"Age\": [\"<10\", \"10-14\", \"15-19\", \"20-24\", \"25-29\", \"30-34\", \"35-39\", \"40-44\", \"45-49\"],\n",
    "                              \"Purchase Count\": [tenyears[\"Price\"].count(), loteens[\"Price\"].count(), hiteens[\"Price\"].count(), lotwent[\"Price\"].count(), hitwent[\"Price\"].count(), lothirt[\"Price\"].count(), hithirt[\"Price\"].count(), loforty[\"Price\"].count(), hiforty[\"Price\"].count()],\n",
    "                              \"Average Purchase Price\": [tenyears[\"Price\"].mean(), loteens[\"Price\"].mean(), hiteens[\"Price\"].mean(), lotwent[\"Price\"].mean(), hitwent[\"Price\"].mean(), lothirt[\"Price\"].mean(), hithirt[\"Price\"].mean(), loforty[\"Price\"].mean(), hiforty[\"Price\"].mean()], \n",
    "                              \"Total Purchase Value\": [tenyears[\"Price\"].sum(), loteens[\"Price\"].sum(), hiteens[\"Price\"].sum(), lotwent[\"Price\"].sum(), hitwent[\"Price\"].sum(), lothirt[\"Price\"].sum(), hithirt[\"Price\"].sum(), loforty[\"Price\"].sum(), hiforty[\"Price\"].sum()],\n",
    "                              \"Normalized Totals\": [tenyears[\"Price\"].sum()/tenyears['SN'].nunique(), loteens[\"Price\"].sum()/loteens['SN'].nunique(), hiteens[\"Price\"].sum()/hiteens['SN'].nunique(), \n",
    "                                                    lotwent[\"Price\"].sum()/lotwent['SN'].nunique(), hitwent[\"Price\"].sum()/hitwent['SN'].nunique(), \n",
    "                                                    lothirt[\"Price\"].sum()/lothirt['SN'].nunique(), hithirt[\"Price\"].sum()/hithirt['SN'].nunique(), \n",
    "                                                    loforty[\"Price\"].sum()/loforty['SN'].nunique(), hiforty[\"Price\"].sum()/hiforty['SN'].nunique()]}, \n",
    "                             columns = \n",
    "                            [\"Age\", \"Purchase Count\", \"Average Purchase Price\", \"Total Purchase Value\", \"Normalized Totals\"])\n",
    "\n",
    "age_purchasing_final = age_purchasing_df.set_index(\"Age\")\n",
    "\n",
    "age_purchasing_final.style.format({\"Average Purchase Price\": \"${:.2f}\", \"Total Purchase Value\": \"${:.2f}\", \"Normalized Totals\": \"${:.2f}\"})"
   ]
  },
  {
   "cell_type": "markdown",
   "metadata": {},
   "source": [
    "## Top Spenders"
   ]
  },
  {
   "cell_type": "code",
   "execution_count": 63,
   "metadata": {},
   "outputs": [
    {
     "data": {
      "text/html": [
       "<style  type=\"text/css\" >\n",
       "</style>  \n",
       "<table id=\"T_77a0d628_8f52_11e7_b361_f40f240c664b\" > \n",
       "<thead>    <tr> \n",
       "        <th class=\"blank level0\" ></th> \n",
       "        <th class=\"col_heading level0 col0\" >Purchase Count</th> \n",
       "        <th class=\"col_heading level0 col1\" >Average Purchase Price</th> \n",
       "        <th class=\"col_heading level0 col2\" >Total Purchase Value</th> \n",
       "    </tr>    <tr> \n",
       "        <th class=\"index_name level0\" >SN</th> \n",
       "        <th class=\"blank\" ></th> \n",
       "        <th class=\"blank\" ></th> \n",
       "        <th class=\"blank\" ></th> \n",
       "    </tr></thead> \n",
       "<tbody>    <tr> \n",
       "        <th id=\"T_77a0d628_8f52_11e7_b361_f40f240c664b\" class=\"row_heading level0 row0\" >Undirrala66</th> \n",
       "        <td id=\"T_77a0d628_8f52_11e7_b361_f40f240c664brow0_col0\" class=\"data row0 col0\" >5</td> \n",
       "        <td id=\"T_77a0d628_8f52_11e7_b361_f40f240c664brow0_col1\" class=\"data row0 col1\" >$3.41</td> \n",
       "        <td id=\"T_77a0d628_8f52_11e7_b361_f40f240c664brow0_col2\" class=\"data row0 col2\" >$17.06</td> \n",
       "    </tr>    <tr> \n",
       "        <th id=\"T_77a0d628_8f52_11e7_b361_f40f240c664b\" class=\"row_heading level0 row1\" >Saedue76</th> \n",
       "        <td id=\"T_77a0d628_8f52_11e7_b361_f40f240c664brow1_col0\" class=\"data row1 col0\" >4</td> \n",
       "        <td id=\"T_77a0d628_8f52_11e7_b361_f40f240c664brow1_col1\" class=\"data row1 col1\" >$3.39</td> \n",
       "        <td id=\"T_77a0d628_8f52_11e7_b361_f40f240c664brow1_col2\" class=\"data row1 col2\" >$13.56</td> \n",
       "    </tr>    <tr> \n",
       "        <th id=\"T_77a0d628_8f52_11e7_b361_f40f240c664b\" class=\"row_heading level0 row2\" >Mindimnya67</th> \n",
       "        <td id=\"T_77a0d628_8f52_11e7_b361_f40f240c664brow2_col0\" class=\"data row2 col0\" >4</td> \n",
       "        <td id=\"T_77a0d628_8f52_11e7_b361_f40f240c664brow2_col1\" class=\"data row2 col1\" >$3.18</td> \n",
       "        <td id=\"T_77a0d628_8f52_11e7_b361_f40f240c664brow2_col2\" class=\"data row2 col2\" >$12.74</td> \n",
       "    </tr>    <tr> \n",
       "        <th id=\"T_77a0d628_8f52_11e7_b361_f40f240c664b\" class=\"row_heading level0 row3\" >Haellysu29</th> \n",
       "        <td id=\"T_77a0d628_8f52_11e7_b361_f40f240c664brow3_col0\" class=\"data row3 col0\" >3</td> \n",
       "        <td id=\"T_77a0d628_8f52_11e7_b361_f40f240c664brow3_col1\" class=\"data row3 col1\" >$4.24</td> \n",
       "        <td id=\"T_77a0d628_8f52_11e7_b361_f40f240c664brow3_col2\" class=\"data row3 col2\" >$12.73</td> \n",
       "    </tr>    <tr> \n",
       "        <th id=\"T_77a0d628_8f52_11e7_b361_f40f240c664b\" class=\"row_heading level0 row4\" >Eoda93</th> \n",
       "        <td id=\"T_77a0d628_8f52_11e7_b361_f40f240c664brow4_col0\" class=\"data row4 col0\" >3</td> \n",
       "        <td id=\"T_77a0d628_8f52_11e7_b361_f40f240c664brow4_col1\" class=\"data row4 col1\" >$3.86</td> \n",
       "        <td id=\"T_77a0d628_8f52_11e7_b361_f40f240c664brow4_col2\" class=\"data row4 col2\" >$11.58</td> \n",
       "    </tr></tbody> \n",
       "</table> "
      ],
      "text/plain": [
       "<pandas.io.formats.style.Styler at 0x1100d6fd0>"
      ]
     },
     "execution_count": 63,
     "metadata": {},
     "output_type": "execute_result"
    }
   ],
   "source": [
    "sn_total_purchase = df.groupby('SN')['Price'].sum().to_frame()\n",
    "sn_purchase_count = df.groupby('SN')['Price'].count().to_frame()\n",
    "sn_purchase_avg = df.groupby('SN')['Price'].mean().to_frame()\n",
    "\n",
    "sn_total_purchase.columns=[\"Total Purchase Value\"]\n",
    "join_one = sn_total_purchase.join(sn_purchase_count, how=\"left\")\n",
    "join_one.columns=[\"Total Purchase Value\", \"Purchase Count\"]\n",
    "\n",
    "join_two = join_one.join(sn_purchase_avg, how=\"inner\")\n",
    "join_two.columns=[\"Total Purchase Value\", \"Purchase Count\", \"Average Purchase Price\"]\n",
    "\n",
    "top_spenders_df = join_two[[\"Purchase Count\", \"Average Purchase Price\", \"Total Purchase Value\"]]\n",
    "top_spenders_final = top_spenders_df.sort_values('Total Purchase Value', ascending=False).head()\n",
    "top_spenders_final.style.format({\"Average Purchase Price\": \"${:.2f}\", \"Total Purchase Value\": \"${:.2f}\"})"
   ]
  },
  {
   "cell_type": "markdown",
   "metadata": {},
   "source": [
    "## Most Popular Items"
   ]
  },
  {
   "cell_type": "code",
   "execution_count": 38,
   "metadata": {},
   "outputs": [
    {
     "data": {
      "text/html": [
       "<style  type=\"text/css\" >\n",
       "</style>  \n",
       "<table id=\"T_6f34cc74_8f4f_11e7_8fb1_f40f240c664b\" > \n",
       "<thead>    <tr> \n",
       "        <th class=\"blank\" ></th> \n",
       "        <th class=\"blank level0\" ></th> \n",
       "        <th class=\"col_heading level0 col0\" >Purchase Count</th> \n",
       "        <th class=\"col_heading level0 col1\" >Item Price</th> \n",
       "        <th class=\"col_heading level0 col2\" >Total Purchase Value</th> \n",
       "    </tr>    <tr> \n",
       "        <th class=\"index_name level0\" >Item Name</th> \n",
       "        <th class=\"index_name level1\" >Item ID</th> \n",
       "        <th class=\"blank\" ></th> \n",
       "        <th class=\"blank\" ></th> \n",
       "        <th class=\"blank\" ></th> \n",
       "    </tr></thead> \n",
       "<tbody>    <tr> \n",
       "        <th id=\"T_6f34cc74_8f4f_11e7_8fb1_f40f240c664b\" class=\"row_heading level0 row0\" >Arcane Gem</th> \n",
       "        <th id=\"T_6f34cc74_8f4f_11e7_8fb1_f40f240c664b\" class=\"row_heading level1 row0\" >84</th> \n",
       "        <td id=\"T_6f34cc74_8f4f_11e7_8fb1_f40f240c664brow0_col0\" class=\"data row0 col0\" >11</td> \n",
       "        <td id=\"T_6f34cc74_8f4f_11e7_8fb1_f40f240c664brow0_col1\" class=\"data row0 col1\" >$2.23</td> \n",
       "        <td id=\"T_6f34cc74_8f4f_11e7_8fb1_f40f240c664brow0_col2\" class=\"data row0 col2\" >$24.53</td> \n",
       "    </tr>    <tr> \n",
       "        <th id=\"T_6f34cc74_8f4f_11e7_8fb1_f40f240c664b\" class=\"row_heading level0 row1\" >Betrayal, Whisper of Grieving Widows</th> \n",
       "        <th id=\"T_6f34cc74_8f4f_11e7_8fb1_f40f240c664b\" class=\"row_heading level1 row1\" >39</th> \n",
       "        <td id=\"T_6f34cc74_8f4f_11e7_8fb1_f40f240c664brow1_col0\" class=\"data row1 col0\" >11</td> \n",
       "        <td id=\"T_6f34cc74_8f4f_11e7_8fb1_f40f240c664brow1_col1\" class=\"data row1 col1\" >$2.35</td> \n",
       "        <td id=\"T_6f34cc74_8f4f_11e7_8fb1_f40f240c664brow1_col2\" class=\"data row1 col2\" >$25.85</td> \n",
       "    </tr>    <tr> \n",
       "        <th id=\"T_6f34cc74_8f4f_11e7_8fb1_f40f240c664b\" class=\"row_heading level0 row2\" >Trickster</th> \n",
       "        <th id=\"T_6f34cc74_8f4f_11e7_8fb1_f40f240c664b\" class=\"row_heading level1 row2\" >31</th> \n",
       "        <td id=\"T_6f34cc74_8f4f_11e7_8fb1_f40f240c664brow2_col0\" class=\"data row2 col0\" >9</td> \n",
       "        <td id=\"T_6f34cc74_8f4f_11e7_8fb1_f40f240c664brow2_col1\" class=\"data row2 col1\" >$2.07</td> \n",
       "        <td id=\"T_6f34cc74_8f4f_11e7_8fb1_f40f240c664brow2_col2\" class=\"data row2 col2\" >$18.63</td> \n",
       "    </tr>    <tr> \n",
       "        <th id=\"T_6f34cc74_8f4f_11e7_8fb1_f40f240c664b\" class=\"row_heading level0 row3\" >Woeful Adamantite Claymore</th> \n",
       "        <th id=\"T_6f34cc74_8f4f_11e7_8fb1_f40f240c664b\" class=\"row_heading level1 row3\" >175</th> \n",
       "        <td id=\"T_6f34cc74_8f4f_11e7_8fb1_f40f240c664brow3_col0\" class=\"data row3 col0\" >9</td> \n",
       "        <td id=\"T_6f34cc74_8f4f_11e7_8fb1_f40f240c664brow3_col1\" class=\"data row3 col1\" >$1.24</td> \n",
       "        <td id=\"T_6f34cc74_8f4f_11e7_8fb1_f40f240c664brow3_col2\" class=\"data row3 col2\" >$11.16</td> \n",
       "    </tr>    <tr> \n",
       "        <th id=\"T_6f34cc74_8f4f_11e7_8fb1_f40f240c664b\" class=\"row_heading level0 row4\" >Serenity</th> \n",
       "        <th id=\"T_6f34cc74_8f4f_11e7_8fb1_f40f240c664b\" class=\"row_heading level1 row4\" >13</th> \n",
       "        <td id=\"T_6f34cc74_8f4f_11e7_8fb1_f40f240c664brow4_col0\" class=\"data row4 col0\" >9</td> \n",
       "        <td id=\"T_6f34cc74_8f4f_11e7_8fb1_f40f240c664brow4_col1\" class=\"data row4 col1\" >$1.49</td> \n",
       "        <td id=\"T_6f34cc74_8f4f_11e7_8fb1_f40f240c664brow4_col2\" class=\"data row4 col2\" >$13.41</td> \n",
       "    </tr>    <tr> \n",
       "        <th id=\"T_6f34cc74_8f4f_11e7_8fb1_f40f240c664b\" class=\"row_heading level0 row5\" >Retribution Axe</th> \n",
       "        <th id=\"T_6f34cc74_8f4f_11e7_8fb1_f40f240c664b\" class=\"row_heading level1 row5\" >34</th> \n",
       "        <td id=\"T_6f34cc74_8f4f_11e7_8fb1_f40f240c664brow5_col0\" class=\"data row5 col0\" >9</td> \n",
       "        <td id=\"T_6f34cc74_8f4f_11e7_8fb1_f40f240c664brow5_col1\" class=\"data row5 col1\" >$4.14</td> \n",
       "        <td id=\"T_6f34cc74_8f4f_11e7_8fb1_f40f240c664brow5_col2\" class=\"data row5 col2\" >$37.26</td> \n",
       "    </tr></tbody> \n",
       "</table> "
      ],
      "text/plain": [
       "<pandas.io.formats.style.Styler at 0x1101f83c8>"
      ]
     },
     "execution_count": 38,
     "metadata": {},
     "output_type": "execute_result"
    }
   ],
   "source": [
    "#merge dataframes to find purchase count, total purchase value for items\n",
    "#reset indices to dataframes can be merged on specific elements\n",
    "premergeone = df.groupby(\"Item Name\").sum().reset_index()\n",
    "premergetwo = df.groupby(\"Item ID\").sum().reset_index()\n",
    "premergethree = df.groupby(\"Item Name\").count().reset_index()\n",
    "\n",
    "#merge dataframes\n",
    "mergeone = pd.merge(premergeone, premergetwo, on=\"Price\")\n",
    "mergetwo = pd.merge(premergethree, mergeone, on=\"Item Name\")\n",
    "\n",
    "#start to create final dataframe by manipulating data\n",
    "mergetwo[\"Gender\"] = (mergetwo[\"Price_y\"]/mergetwo[\"Item ID\"]).round(2)\n",
    "\n",
    "mergetwo_renamed = mergetwo.rename(columns={\"Age\": \"Purchase Count\", \"Gender\": \"Item Price\", \"Item ID\": \"null\", \"Price_y\": \"Total Purchase Value\", \"Item ID_y\": \"Item ID\"})\n",
    "\n",
    "#grab columns we are looking for\n",
    "clean_df = mergetwo_renamed[[\"Item ID\", \"Item Name\", \"Purchase Count\", \"Item Price\", \"Total Purchase Value\"]]\n",
    "\n",
    "prefinal_df = clean_df.set_index(['Item Name', 'Item ID'])\n",
    "popular_items_final = prefinal_df.sort_values('Purchase Count', ascending=False).head(6)\n",
    "popular_items_final.style.format({\"Item Price\": \"${:.2f}\", \"Total Purchase Value\": \"${:.2f}\"})"
   ]
  },
  {
   "cell_type": "markdown",
   "metadata": {},
   "source": [
    "## Most Profitable Items"
   ]
  },
  {
   "cell_type": "code",
   "execution_count": 40,
   "metadata": {},
   "outputs": [
    {
     "data": {
      "text/html": [
       "<style  type=\"text/css\" >\n",
       "</style>  \n",
       "<table id=\"T_a283684a_8f4f_11e7_9ce3_f40f240c664b\" > \n",
       "<thead>    <tr> \n",
       "        <th class=\"blank\" ></th> \n",
       "        <th class=\"blank level0\" ></th> \n",
       "        <th class=\"col_heading level0 col0\" >Purchase Count</th> \n",
       "        <th class=\"col_heading level0 col1\" >Item Price</th> \n",
       "        <th class=\"col_heading level0 col2\" >Total Purchase Value</th> \n",
       "    </tr>    <tr> \n",
       "        <th class=\"index_name level0\" >Item Name</th> \n",
       "        <th class=\"index_name level1\" >Item ID</th> \n",
       "        <th class=\"blank\" ></th> \n",
       "        <th class=\"blank\" ></th> \n",
       "        <th class=\"blank\" ></th> \n",
       "    </tr></thead> \n",
       "<tbody>    <tr> \n",
       "        <th id=\"T_a283684a_8f4f_11e7_9ce3_f40f240c664b\" class=\"row_heading level0 row0\" >Retribution Axe</th> \n",
       "        <th id=\"T_a283684a_8f4f_11e7_9ce3_f40f240c664b\" class=\"row_heading level1 row0\" >34</th> \n",
       "        <td id=\"T_a283684a_8f4f_11e7_9ce3_f40f240c664brow0_col0\" class=\"data row0 col0\" >9</td> \n",
       "        <td id=\"T_a283684a_8f4f_11e7_9ce3_f40f240c664brow0_col1\" class=\"data row0 col1\" >$4.14</td> \n",
       "        <td id=\"T_a283684a_8f4f_11e7_9ce3_f40f240c664brow0_col2\" class=\"data row0 col2\" >$37.26</td> \n",
       "    </tr>    <tr> \n",
       "        <th id=\"T_a283684a_8f4f_11e7_9ce3_f40f240c664b\" class=\"row_heading level0 row1\" >Spectral Diamond Doomblade</th> \n",
       "        <th id=\"T_a283684a_8f4f_11e7_9ce3_f40f240c664b\" class=\"row_heading level1 row1\" >115</th> \n",
       "        <td id=\"T_a283684a_8f4f_11e7_9ce3_f40f240c664brow1_col0\" class=\"data row1 col0\" >7</td> \n",
       "        <td id=\"T_a283684a_8f4f_11e7_9ce3_f40f240c664brow1_col1\" class=\"data row1 col1\" >$4.25</td> \n",
       "        <td id=\"T_a283684a_8f4f_11e7_9ce3_f40f240c664brow1_col2\" class=\"data row1 col2\" >$29.75</td> \n",
       "    </tr>    <tr> \n",
       "        <th id=\"T_a283684a_8f4f_11e7_9ce3_f40f240c664b\" class=\"row_heading level0 row2\" >Orenmir</th> \n",
       "        <th id=\"T_a283684a_8f4f_11e7_9ce3_f40f240c664b\" class=\"row_heading level1 row2\" >32</th> \n",
       "        <td id=\"T_a283684a_8f4f_11e7_9ce3_f40f240c664brow2_col0\" class=\"data row2 col0\" >6</td> \n",
       "        <td id=\"T_a283684a_8f4f_11e7_9ce3_f40f240c664brow2_col1\" class=\"data row2 col1\" >$4.95</td> \n",
       "        <td id=\"T_a283684a_8f4f_11e7_9ce3_f40f240c664brow2_col2\" class=\"data row2 col2\" >$29.70</td> \n",
       "    </tr>    <tr> \n",
       "        <th id=\"T_a283684a_8f4f_11e7_9ce3_f40f240c664b\" class=\"row_heading level0 row3\" >Singed Scalpel</th> \n",
       "        <th id=\"T_a283684a_8f4f_11e7_9ce3_f40f240c664b\" class=\"row_heading level1 row3\" >103</th> \n",
       "        <td id=\"T_a283684a_8f4f_11e7_9ce3_f40f240c664brow3_col0\" class=\"data row3 col0\" >6</td> \n",
       "        <td id=\"T_a283684a_8f4f_11e7_9ce3_f40f240c664brow3_col1\" class=\"data row3 col1\" >$4.87</td> \n",
       "        <td id=\"T_a283684a_8f4f_11e7_9ce3_f40f240c664brow3_col2\" class=\"data row3 col2\" >$29.22</td> \n",
       "    </tr>    <tr> \n",
       "        <th id=\"T_a283684a_8f4f_11e7_9ce3_f40f240c664b\" class=\"row_heading level0 row4\" >Splitter, Foe Of Subtlety</th> \n",
       "        <th id=\"T_a283684a_8f4f_11e7_9ce3_f40f240c664b\" class=\"row_heading level1 row4\" >107</th> \n",
       "        <td id=\"T_a283684a_8f4f_11e7_9ce3_f40f240c664brow4_col0\" class=\"data row4 col0\" >8</td> \n",
       "        <td id=\"T_a283684a_8f4f_11e7_9ce3_f40f240c664brow4_col1\" class=\"data row4 col1\" >$3.61</td> \n",
       "        <td id=\"T_a283684a_8f4f_11e7_9ce3_f40f240c664brow4_col2\" class=\"data row4 col2\" >$28.88</td> \n",
       "    </tr></tbody> \n",
       "</table> "
      ],
      "text/plain": [
       "<pandas.io.formats.style.Styler at 0x1100bfeb8>"
      ]
     },
     "execution_count": 40,
     "metadata": {},
     "output_type": "execute_result"
    }
   ],
   "source": [
    "#use prefinal dataframe from prior to step to find most profitable items\n",
    "\n",
    "profit_items_final = prefinal_df.sort_values('Total Purchase Value', ascending=False).head()\n",
    "profit_items_final.style.format({\"Item Price\": \"${:.2f}\", \"Total Purchase Value\": \"${:.2f}\"})"
   ]
  }
 ],
 "metadata": {
  "kernelspec": {
   "display_name": "Python [conda env:PythonData]",
   "language": "python",
   "name": "conda-env-PythonData-py"
  },
  "language_info": {
   "codemirror_mode": {
    "name": "ipython",
    "version": 3
   },
   "file_extension": ".py",
   "mimetype": "text/x-python",
   "name": "python",
   "nbconvert_exporter": "python",
   "pygments_lexer": "ipython3",
   "version": "3.6.1"
  }
 },
 "nbformat": 4,
 "nbformat_minor": 2
}
